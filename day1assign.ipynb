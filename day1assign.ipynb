{
 "cells": [
  {
   "cell_type": "code",
   "execution_count": 16,
   "id": "3d639861",
   "metadata": {},
   "outputs": [
    {
     "name": "stdout",
     "output_type": "stream",
     "text": [
      "[0, 1, 1, 2, 3, 5, 8]\n"
     ]
    }
   ],
   "source": [
    "def fibonacci(n):\n",
    "    fib = [0, 1]\n",
    "    for i in range(2, n):\n",
    "        fib.append(fib[-1] + fib[-2])\n",
    "    return fib[:n]\n",
    "print(fibonacci(7)) \n"
   ]
  },
  {
   "cell_type": "code",
   "execution_count": 17,
   "id": "f0502f59",
   "metadata": {},
   "outputs": [
    {
     "name": "stdout",
     "output_type": "stream",
     "text": [
      "120\n"
     ]
    }
   ],
   "source": [
    "def factorial(n):\n",
    "    if n == 0 or n == 1:\n",
    "        return 1\n",
    "    return n * factorial(n - 1)\n",
    "print(factorial(5))\n"
   ]
  },
  {
   "cell_type": "code",
   "execution_count": 18,
   "id": "43e7f2e2",
   "metadata": {},
   "outputs": [
    {
     "name": "stdout",
     "output_type": "stream",
     "text": [
      "{'apple': 2, 'banana': 2, 'orange': 1}\n"
     ]
    }
   ],
   "source": [
    "def unique_words(sentence):\n",
    "    words = sentence.split()\n",
    "    count = {}\n",
    "    for word in words:\n",
    "        count[word] = count.get(word, 0) + 1\n",
    "    return count\n",
    "print(unique_words(\"apple banana apple orange banana\"))\n"
   ]
  },
  {
   "cell_type": "code",
   "execution_count": 19,
   "id": "22642c3c",
   "metadata": {},
   "outputs": [
    {
     "name": "stdout",
     "output_type": "stream",
     "text": [
      "Grade: A\n"
     ]
    }
   ],
   "source": [
    "def grade_calculator(marks):\n",
    "    avg = sum(marks) / len(marks)\n",
    "    if avg >= 90:\n",
    "        return \"Grade: A+\"\n",
    "    elif avg >= 80:\n",
    "        return \"Grade: A\"\n",
    "    elif avg >= 70:\n",
    "        return \"Grade: B\"\n",
    "    elif avg >= 60:\n",
    "        return \"Grade: C\"\n",
    "    else:\n",
    "        return \"Grade: F\"\n",
    "print(grade_calculator([85, 90, 78]))\n"
   ]
  },
  {
   "cell_type": "code",
   "execution_count": 20,
   "id": "477ef775",
   "metadata": {},
   "outputs": [
    {
     "name": "stdout",
     "output_type": "stream",
     "text": [
      "10\n"
     ]
    }
   ],
   "source": [
    "def second_largest(nums):\n",
    "    unique = list(set(nums))\n",
    "    unique.sort()\n",
    "    return unique[-2] if len(unique) >= 2 else None\n",
    "print(second_largest([10, 5, 20, 8]))\n"
   ]
  },
  {
   "cell_type": "code",
   "execution_count": 21,
   "id": "206eb60c",
   "metadata": {},
   "outputs": [],
   "source": [
    "import os\n",
    "def count_files_by_extension():\n",
    "    txt_count = py_count = 0\n",
    "    for file in os.listdir('.'):\n",
    "        if file.endswith('.txt'):\n",
    "            txt_count += 1\n",
    "        elif file.endswith('.py'):\n",
    "            py_count += 1\n",
    "    print(f\"Text files: {txt_count}\")\n",
    "    print(f\"Python files: {py_count}\")\n"
   ]
  },
  {
   "cell_type": "code",
   "execution_count": 22,
   "id": "1e755699",
   "metadata": {},
   "outputs": [
    {
     "name": "stdout",
     "output_type": "stream",
     "text": [
      "Mean = 87.86\n",
      "Median = 90\n",
      "Variance = 73.81\n"
     ]
    }
   ],
   "source": [
    "import statistics\n",
    "def analyze_scores(scores):\n",
    "    mean = round(statistics.mean(scores), 2)\n",
    "    median = statistics.median(scores)\n",
    "    variance = round(statistics.variance(scores), 2)\n",
    "    print(f\"Mean = {mean}\")\n",
    "    print(f\"Median = {median}\")\n",
    "    print(f\"Variance = {variance}\")\n",
    "analyze_scores([75, 80, 90, 100, 85, 90, 95])\n"
   ]
  },
  {
   "cell_type": "code",
   "execution_count": 23,
   "id": "f3a95d90",
   "metadata": {},
   "outputs": [
    {
     "name": "stdout",
     "output_type": "stream",
     "text": [
      "Roots are: 2.0 and 1.0\n"
     ]
    }
   ],
   "source": [
    "import math\n",
    "def solve_quadratic(a, b, c):\n",
    "    d = b**2 - 4*a*c\n",
    "    if d < 0:\n",
    "        return \"No real roots\"\n",
    "    root1 = (-b + math.sqrt(d)) / (2*a)\n",
    "    root2 = (-b - math.sqrt(d)) / (2*a)\n",
    "    return f\"Roots are: {round(root1, 2)} and {round(root2, 2)}\"\n",
    "print(solve_quadratic(1, -3, 2))  # Roots are: 2.0 and 1.0\n"
   ]
  },
  {
   "cell_type": "code",
   "execution_count": 24,
   "id": "e8283145",
   "metadata": {},
   "outputs": [
    {
     "name": "stdout",
     "output_type": "stream",
     "text": [
      "You chose Rock, Computer chose Scissors\n",
      "You Win!\n"
     ]
    }
   ],
   "source": [
    "import random\n",
    "def rps_game(user_choice):\n",
    "    options = ['Rock', 'Paper', 'Scissors']\n",
    "    comp_choice = random.choice(options)\n",
    "    print(f\"You chose {user_choice}, Computer chose {comp_choice}\")\n",
    "    if user_choice == comp_choice:\n",
    "        return \"It's a tie!\"\n",
    "    wins = {'Rock': 'Scissors', 'Paper': 'Rock', 'Scissors': 'Paper'}\n",
    "    if wins[user_choice] == comp_choice:\n",
    "        return \"You Win!\"\n",
    "    else:\n",
    "        return \"You Lose!\"\n",
    "print(rps_game(\"Rock\"))\n"
   ]
  },
  {
   "cell_type": "code",
   "execution_count": 25,
   "id": "fa785bc1",
   "metadata": {},
   "outputs": [
    {
     "name": "stdout",
     "output_type": "stream",
     "text": [
      "You borrowed Python 101\n",
      "You returned Python 101\n",
      "Books: {'Python 101': 3, 'Data Science': 2}\n"
     ]
    }
   ],
   "source": [
    "class Library:\n",
    "    books = {}\n",
    "    def borrow(self, title):\n",
    "        if Library.books.get(title, 0) > 0:\n",
    "            Library.books[title] -= 1\n",
    "            return \"You borrowed \" + title\n",
    "        else:\n",
    "            return \"Not available\"\n",
    "    def return_book(self, title):\n",
    "        if title in Library.books:\n",
    "            Library.books[title] += 1\n",
    "            return \"You returned \" + title\n",
    "    def show_books(self):\n",
    "        print(\"Books:\", Library.books)\n",
    "lib = Library()\n",
    "Library.books = {\"Python 101\": 3, \"Data Science\": 2}\n",
    "print(lib.borrow(\"Python 101\"))\n",
    "print(lib.return_book(\"Python 101\"))\n",
    "lib.show_books()\n"
   ]
  },
  {
   "cell_type": "code",
   "execution_count": 26,
   "id": "23a4f8cd",
   "metadata": {},
   "outputs": [
    {
     "name": "stdout",
     "output_type": "stream",
     "text": [
      "Access Granted\n",
      "Deposited 200\n",
      "Withdrew 100\n",
      "Balance: 600\n"
     ]
    }
   ],
   "source": [
    "class ATM:\n",
    "    pin = 0\n",
    "    balance = 0\n",
    "    logged_in = False\n",
    "    def login(self, p):\n",
    "        if p == ATM.pin:\n",
    "            ATM.logged_in = True\n",
    "            return \"Access Granted\"\n",
    "        else:\n",
    "            return \"Wrong PIN\"\n",
    "    def check_balance(self):\n",
    "        if ATM.logged_in:\n",
    "            return \"Balance: \" + str(ATM.balance)\n",
    "    def deposit(self, amount):\n",
    "        if ATM.logged_in:\n",
    "            ATM.balance += amount\n",
    "            return \"Deposited \" + str(amount)\n",
    "    def withdraw(self, amount):\n",
    "        if ATM.logged_in and ATM.balance >= amount:\n",
    "            ATM.balance -= amount\n",
    "            return \"Withdrew \" + str(amount)\n",
    "        else:\n",
    "            return \"Not enough balance\"\n",
    "atm = ATM()\n",
    "ATM.pin = 1234\n",
    "ATM.balance = 500\n",
    "print(atm.login(1234))\n",
    "print(atm.deposit(200))\n",
    "print(atm.withdraw(100))\n",
    "print(atm.check_balance())\n"
   ]
  },
  {
   "cell_type": "code",
   "execution_count": 27,
   "id": "04f7c140",
   "metadata": {},
   "outputs": [
    {
     "name": "stdout",
     "output_type": "stream",
     "text": [
      "Dr. Smith is teaching Python\n",
      "Alice enrolled in Python\n",
      "Dr. Smith assigned: Project 1\n",
      "Alice submitted: Project 1\n"
     ]
    }
   ],
   "source": [
    "class Professor:\n",
    "    name = \"\"\n",
    "    subject = \"\"\n",
    "    def teach(self, course):\n",
    "        return self.name + \" is teaching \" + course\n",
    "    def give_assignment(self, task):\n",
    "        return self.name + \" assigned: \" + task\n",
    "class Student:\n",
    "    name = \"\"\n",
    "    courses = []\n",
    "    assignments = []\n",
    "    def enroll(self, course):\n",
    "        Student.courses.append(course)\n",
    "        return self.name + \" enrolled in \" + course\n",
    "    def submit_assignment(self, task):\n",
    "        Student.assignments.append(task)\n",
    "        return self.name + \" submitted: \" + task\n",
    "prof = Professor()\n",
    "prof.name = \"Dr. Smith\"\n",
    "prof.subject = \"CS\"\n",
    "stud = Student()\n",
    "stud.name = \"Alice\"\n",
    "print(prof.teach(\"Python\"))\n",
    "print(stud.enroll(\"Python\"))\n",
    "print(prof.give_assignment(\"Project 1\"))\n",
    "print(stud.submit_assignment(\"Project 1\"))\n"
   ]
  },
  {
   "cell_type": "code",
   "execution_count": 28,
   "id": "6089d37d",
   "metadata": {},
   "outputs": [
    {
     "name": "stdout",
     "output_type": "stream",
     "text": [
      "Booked 2 for Avatar\n",
      "Cancelled 1 for Avatar\n",
      "Movies: {'Avatar': 9, 'Batman': 5}\n"
     ]
    }
   ],
   "source": [
    "class Cinema:\n",
    "    movies = {}\n",
    "    def book(self, movie, seats):\n",
    "        if Cinema.movies.get(movie, 0) >= seats:\n",
    "            Cinema.movies[movie] -= seats\n",
    "            return \"Booked \" + str(seats) + \" for \" + movie\n",
    "        else:\n",
    "            return \"Not enough seats\"\n",
    "    def cancel(self, movie, seats):\n",
    "        if movie in Cinema.movies:\n",
    "            Cinema.movies[movie] += seats\n",
    "            return \"Cancelled \" + str(seats) + \" for \" + movie\n",
    "    def show_movies(self):\n",
    "        print(\"Movies:\", Cinema.movies)\n",
    "cinema = Cinema()\n",
    "Cinema.movies = {\"Avatar\": 10, \"Batman\": 5}\n",
    "print(cinema.book(\"Avatar\", 2))\n",
    "print(cinema.cancel(\"Avatar\", 1))\n",
    "cinema.show_movies()\n"
   ]
  },
  {
   "cell_type": "code",
   "execution_count": 29,
   "id": "c76f2394",
   "metadata": {},
   "outputs": [
    {
     "name": "stdout",
     "output_type": "stream",
     "text": [
      "Burger added\n",
      "Pizza added\n",
      "Pizza price updated to 250\n",
      "Burger removed\n",
      "Menu: {'Pizza': 250}\n"
     ]
    }
   ],
   "source": [
    "class Menu:\n",
    "    items = {}\n",
    "    def add(self, name, price):\n",
    "        Menu.items[name] = price\n",
    "        return name + \" added\"\n",
    "    def remove(self, name):\n",
    "        if name in Menu.items:\n",
    "            del Menu.items[name]\n",
    "            return name + \" removed\"\n",
    "    def update(self, name, price):\n",
    "        if name in Menu.items:\n",
    "            Menu.items[name] = price\n",
    "            return name + \" price updated to \" + str(price)\n",
    "    def show(self):\n",
    "        print(\"Menu:\", Menu.items)\n",
    "menu = Menu()\n",
    "print(menu.add(\"Burger\", 100))\n",
    "print(menu.add(\"Pizza\", 200))\n",
    "print(menu.update(\"Pizza\", 250))\n",
    "print(menu.remove(\"Burger\"))\n",
    "menu.show()\n"
   ]
  }
 ],
 "metadata": {
  "kernelspec": {
   "display_name": "base",
   "language": "python",
   "name": "python3"
  },
  "language_info": {
   "codemirror_mode": {
    "name": "ipython",
    "version": 3
   },
   "file_extension": ".py",
   "mimetype": "text/x-python",
   "name": "python",
   "nbconvert_exporter": "python",
   "pygments_lexer": "ipython3",
   "version": "3.13.5"
  }
 },
 "nbformat": 4,
 "nbformat_minor": 5
}

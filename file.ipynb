{
 "cells": [
  {
   "cell_type": "code",
   "execution_count": 1,
   "metadata": {},
   "outputs": [
    {
     "name": "stdout",
     "output_type": "stream",
     "text": [
      "no change     C:\\Users\\CVR\\anaconda3\\Scripts\\conda.exe\n",
      "no change     C:\\Users\\CVR\\anaconda3\\Scripts\\conda-env.exe\n",
      "no change     C:\\Users\\CVR\\anaconda3\\Scripts\\conda-script.py\n",
      "no change     C:\\Users\\CVR\\anaconda3\\Scripts\\conda-env-script.py\n",
      "no change     C:\\Users\\CVR\\anaconda3\\condabin\\conda.bat\n",
      "no change     C:\\Users\\CVR\\anaconda3\\Library\\bin\\conda.bat\n",
      "no change     C:\\Users\\CVR\\anaconda3\\condabin\\_conda_activate.bat\n",
      "no change     C:\\Users\\CVR\\anaconda3\\condabin\\rename_tmp.bat\n",
      "no change     C:\\Users\\CVR\\anaconda3\\condabin\\conda_auto_activate.bat\n",
      "no change     C:\\Users\\CVR\\anaconda3\\condabin\\conda_hook.bat\n",
      "no change     C:\\Users\\CVR\\anaconda3\\Scripts\\activate.bat\n",
      "no change     C:\\Users\\CVR\\anaconda3\\condabin\\activate.bat\n",
      "no change     C:\\Users\\CVR\\anaconda3\\condabin\\deactivate.bat\n",
      "modified      C:\\Users\\CVR\\anaconda3\\Scripts\\activate\n",
      "modified      C:\\Users\\CVR\\anaconda3\\Scripts\\deactivate\n",
      "modified      C:\\Users\\CVR\\anaconda3\\etc\\profile.d\\conda.sh\n",
      "modified      C:\\Users\\CVR\\anaconda3\\etc\\fish\\conf.d\\conda.fish\n",
      "no change     C:\\Users\\CVR\\anaconda3\\shell\\condabin\\Conda.psm1\n",
      "modified      C:\\Users\\CVR\\anaconda3\\shell\\condabin\\conda-hook.ps1\n",
      "no change     C:\\Users\\CVR\\anaconda3\\Lib\\site-packages\\xontrib\\conda.xsh\n",
      "modified      C:\\Users\\CVR\\anaconda3\\etc\\profile.d\\conda.csh\n",
      "modified      C:\\Users\\CVR\\Documents\\WindowsPowerShell\\profile.ps1\n",
      "modified      HKEY_CURRENT_USER\\Software\\Microsoft\\Command Processor\\AutoRun\n",
      "\n",
      "==> For changes to take effect, close and re-open your current shell. <==\n",
      "\n",
      "\n",
      "Note: you may need to restart the kernel to use updated packages.\n"
     ]
    }
   ],
   "source": [
    "conda init"
   ]
  },
  {
   "cell_type": "code",
   "execution_count": 3,
   "metadata": {},
   "outputs": [
    {
     "name": "stdout",
     "output_type": "stream",
     "text": [
      "olleh\n"
     ]
    }
   ],
   "source": [
    "a=\"hello\"\n",
    "b=\"\".join(reversed(a))\n",
    "print(b)"
   ]
  },
  {
   "cell_type": "code",
   "execution_count": 24,
   "metadata": {},
   "outputs": [
    {
     "name": "stdout",
     "output_type": "stream",
     "text": [
      "153 is amstrong\n"
     ]
    }
   ],
   "source": [
    "num=153\n",
    "a=num\n",
    "b=len(str(a))\n",
    "sum=0\n",
    "while a > 0:\n",
    "    dig = a % 10\n",
    "    sum += dig ** b\n",
    "    a //= 10\n",
    "if sum==num:\n",
    "    print(num,\"is amstrong\")\n",
    "else:\n",
    "    print(num,\"is not amstrong\")\n"
   ]
  },
  {
   "cell_type": "code",
   "execution_count": 25,
   "metadata": {},
   "outputs": [
    {
     "name": "stdout",
     "output_type": "stream",
     "text": [
      "2\n",
      "2\n"
     ]
    }
   ],
   "source": [
    "a=input(\"enter a string\").lower()\n",
    "vowels=\"aeiou\"\n",
    "v=0\n",
    "c=0\n",
    "for ch in a:\n",
    "    if a.isalpha():\n",
    "        if ch in vowels:\n",
    "            v+=1\n",
    "        else :\n",
    "            c+=1\n",
    "print(v)\n",
    "print(c)\n"
   ]
  },
  {
   "cell_type": "code",
   "execution_count": 29,
   "metadata": {},
   "outputs": [
    {
     "name": "stdout",
     "output_type": "stream",
     "text": [
      "3 * 1 = 3\n",
      "3 * 2 = 6\n",
      "3 * 3 = 9\n",
      "3 * 4 = 12\n",
      "3 * 5 = 15\n",
      "3 * 6 = 18\n",
      "3 * 7 = 21\n",
      "3 * 8 = 24\n",
      "3 * 9 = 27\n",
      "3 * 10 = 30\n"
     ]
    }
   ],
   "source": [
    "a=int(input(\"Enter a number\"))\n",
    "for i in range(1,11):\n",
    "    print(a,'*',i,'=',a*i)\n"
   ]
  },
  {
   "cell_type": "code",
   "execution_count": null,
   "metadata": {},
   "outputs": [],
   "source": [
    "a=int((input(\"Enter sub 1\")))\n",
    "b=int((input(\"Enter sub 2\")))\n",
    "c=int((input(\"Enter sub 3\")))\n",
    "d=int((input(\"Enter sub 4\")))\n",
    "e=int((input(\"Enter sub 5\")))\n",
    "if()\n"
   ]
  },
  {
   "cell_type": "code",
   "execution_count": 34,
   "metadata": {},
   "outputs": [
    {
     "name": "stdout",
     "output_type": "stream",
     "text": [
      "leap\n"
     ]
    }
   ],
   "source": [
    "a=int(input(\"Enter a year\"))\n",
    "if a%4==0 and a%100!=0 or a%400==0:\n",
    "    print(\"leap\")\n",
    "else :\n",
    "    print(\"not leap\")"
   ]
  }
 ],
 "metadata": {
  "kernelspec": {
   "display_name": "Python 3",
   "language": "python",
   "name": "python3"
  },
  "language_info": {
   "codemirror_mode": {
    "name": "ipython",
    "version": 3
   },
   "file_extension": ".py",
   "mimetype": "text/x-python",
   "name": "python",
   "nbconvert_exporter": "python",
   "pygments_lexer": "ipython3",
   "version": "3.11.0"
  }
 },
 "nbformat": 4,
 "nbformat_minor": 2
}

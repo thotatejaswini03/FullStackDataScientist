{
 "cells": [
  {
   "cell_type": "code",
   "execution_count": 1,
   "id": "b4c0c0ab",
   "metadata": {},
   "outputs": [
    {
     "name": "stdout",
     "output_type": "stream",
     "text": [
      "no change     C:\\Users\\Hello\\anaconda3\\Scripts\\conda.exe\n",
      "no change     C:\\Users\\Hello\\anaconda3\\Scripts\\conda-env.exe\n",
      "no change     C:\\Users\\Hello\\anaconda3\\Scripts\\conda-script.py\n",
      "no change     C:\\Users\\Hello\\anaconda3\\Scripts\\conda-env-script.py\n",
      "no change     C:\\Users\\Hello\\anaconda3\\condabin\\conda.bat\n",
      "no change     C:\\Users\\Hello\\anaconda3\\Library\\bin\\conda.bat\n",
      "no change     C:\\Users\\Hello\\anaconda3\\condabin\\_conda_activate.bat\n",
      "no change     C:\\Users\\Hello\\anaconda3\\condabin\\rename_tmp.bat\n",
      "no change     C:\\Users\\Hello\\anaconda3\\condabin\\conda_auto_activate.bat\n",
      "no change     C:\\Users\\Hello\\anaconda3\\condabin\\conda_hook.bat\n",
      "no change     C:\\Users\\Hello\\anaconda3\\Scripts\\activate.bat\n",
      "no change     C:\\Users\\Hello\\anaconda3\\condabin\\activate.bat\n",
      "no change     C:\\Users\\Hello\\anaconda3\\condabin\\deactivate.bat\n",
      "modified      C:\\Users\\Hello\\anaconda3\\Scripts\\activate\n",
      "modified      C:\\Users\\Hello\\anaconda3\\Scripts\\deactivate\n",
      "modified      C:\\Users\\Hello\\anaconda3\\etc\\profile.d\\conda.sh\n",
      "modified      C:\\Users\\Hello\\anaconda3\\etc\\fish\\conf.d\\conda.fish\n",
      "no change     C:\\Users\\Hello\\anaconda3\\shell\\condabin\\Conda.psm1\n",
      "modified      C:\\Users\\Hello\\anaconda3\\shell\\condabin\\conda-hook.ps1\n",
      "no change     C:\\Users\\Hello\\anaconda3\\Lib\\site-packages\\xontrib\\conda.xsh\n",
      "modified      C:\\Users\\Hello\\anaconda3\\etc\\profile.d\\conda.csh\n",
      "modified      HKEY_CURRENT_USER\\Software\\Microsoft\\Command Processor\\AutoRun\n",
      "\n",
      "==> For changes to take effect, close and re-open your current shell. <==\n",
      "\n",
      "\n",
      "Note: you may need to restart the kernel to use updated packages.\n"
     ]
    }
   ],
   "source": [
    "conda init"
   ]
  },
  {
   "cell_type": "code",
   "execution_count": 3,
   "id": "f7154456",
   "metadata": {},
   "outputs": [
    {
     "name": "stdout",
     "output_type": "stream",
     "text": [
      "92\n"
     ]
    }
   ],
   "source": [
    "marks=[]\n",
    "for i in range(5):\n",
    "    s=int(input(\"ENter the marks\"))\n",
    "    marks.append(s)\n",
    "print(max(marks))"
   ]
  },
  {
   "cell_type": "code",
   "execution_count": 5,
   "id": "85fb4772",
   "metadata": {},
   "outputs": [
    {
     "name": "stdout",
     "output_type": "stream",
     "text": [
      "prime\n"
     ]
    }
   ],
   "source": [
    "p=int(input(\"Enter a number\"))\n",
    "if p>0:\n",
    "    for i in range(2,p):\n",
    "        if(p%i==0):\n",
    "            print(\"not prime\")\n",
    "            break\n",
    "    else :\n",
    "        print(\"prime\")\n",
    "else :\n",
    "    print(\"prime\")"
   ]
  },
  {
   "cell_type": "code",
   "execution_count": 9,
   "id": "721a9343",
   "metadata": {},
   "outputs": [
    {
     "name": "stdout",
     "output_type": "stream",
     "text": [
      "41\n"
     ]
    }
   ],
   "source": [
    "marks=[]\n",
    "for i in range(5):\n",
    "    m=int(input(\"Enter a number\"))\n",
    "    marks.append(m)\n",
    "marks.sort()\n",
    "print(marks[-2])\n"
   ]
  },
  {
   "cell_type": "code",
   "execution_count": 11,
   "id": "267d14ee",
   "metadata": {},
   "outputs": [
    {
     "name": "stdout",
     "output_type": "stream",
     "text": [
      "650\n"
     ]
    }
   ],
   "source": [
    "sum=0\n",
    "for i in range(2,51,2):\n",
    "    sum+=i\n",
    "print(sum)"
   ]
  },
  {
   "cell_type": "code",
   "execution_count": 15,
   "id": "4134fb15",
   "metadata": {},
   "outputs": [
    {
     "name": "stdout",
     "output_type": "stream",
     "text": [
      "3\n",
      "2\n"
     ]
    }
   ],
   "source": [
    "countl=0\n",
    "countu=0\n",
    "str=input(\"Enter a string\")\n",
    "for i in str:\n",
    "    if(i.islower()):\n",
    "        countl+=1\n",
    "    elif(i.isupper()) :\n",
    "        countu+=1\n",
    "print(countl)\n",
    "print(countu)"
   ]
  },
  {
   "cell_type": "code",
   "execution_count": 19,
   "id": "daa7714a",
   "metadata": {},
   "outputs": [
    {
     "name": "stdout",
     "output_type": "stream",
     "text": [
      "0\n",
      "1\n",
      "1\n",
      "2\n",
      "3\n"
     ]
    }
   ],
   "source": [
    "n=int(input(\"Enter\"))\n",
    "a,b=0,1\n",
    "for i in range(n):\n",
    "    print(a)\n",
    "    a,b=b,a+b"
   ]
  },
  {
   "cell_type": "code",
   "execution_count": 21,
   "id": "7c8cce3a",
   "metadata": {},
   "outputs": [
    {
     "name": "stdout",
     "output_type": "stream",
     "text": [
      "not anagram\n"
     ]
    }
   ],
   "source": [
    "w1=input()\n",
    "w2=input()\n",
    "if sorted(w1)==sorted(w2):\n",
    "    print(\"anagram\")\n",
    "else :\n",
    "    print(\"not anagram\")\n",
    "            "
   ]
  },
  {
   "cell_type": "code",
   "execution_count": 23,
   "id": "4759d899",
   "metadata": {},
   "outputs": [
    {
     "name": "stdout",
     "output_type": "stream",
     "text": [
      "perfect\n"
     ]
    }
   ],
   "source": [
    "\n",
    "n=int(input())\n",
    "sum=0\n",
    "for i in range(1,n):\n",
    "    if(n%i==0):\n",
    "        sum+=i\n",
    "if(sum==n):\n",
    "    print(\"perfect\")\n",
    "else:\n",
    "    print(\"not perfect\")"
   ]
  },
  {
   "cell_type": "code",
   "execution_count": 24,
   "id": "6ad70480",
   "metadata": {},
   "outputs": [
    {
     "name": "stdout",
     "output_type": "stream",
     "text": [
      "B\n"
     ]
    }
   ],
   "source": [
    "marks=[]\n",
    "sum=0\n",
    "for i in range(5):\n",
    "    m=int(input())\n",
    "    marks.append(m)\n",
    "    sum+=m\n",
    "per=sum/len(marks)\n",
    "if(per>=90):\n",
    "    print(\"A\")\n",
    "elif(per>=75):\n",
    "    print(\"B\")\n",
    "elif(per>=50):\n",
    "    print(\"C\")\n",
    "elif(per<50):\n",
    "    print(\"Fail\")"
   ]
  },
  {
   "cell_type": "code",
   "execution_count": 26,
   "id": "d4724a01",
   "metadata": {},
   "outputs": [
    {
     "name": "stdout",
     "output_type": "stream",
     "text": [
      "310\n"
     ]
    }
   ],
   "source": [
    "cost=0\n",
    "for i in range(3):\n",
    "    p=int(input(\"enter the price\"))\n",
    "    q=int(input(\"Enter quantity\"))\n",
    "    cost+=(p*q)\n",
    "print(cost)"
   ]
  },
  {
   "cell_type": "code",
   "execution_count": 27,
   "id": "a75ff25e",
   "metadata": {},
   "outputs": [
    {
     "name": "stdout",
     "output_type": "stream",
     "text": [
      "addition: 15\n",
      "subtarction: 5\n",
      "multipliaction: 50\n",
      "division: 2.0\n",
      "modulus: 0\n"
     ]
    }
   ],
   "source": [
    "n1=int(input(\"enter number1\"))\n",
    "n2=int(input(\"Enter number2\"))\n",
    "print(\"addition:\",n1+n2)\n",
    "print(\"subtarction:\",n1-n2)\n",
    "print(\"multipliaction:\",n1*n2)\n",
    "print(\"division:\",n1/n2)\n",
    "print(\"modulus:\",n1%n2)\n"
   ]
  },
  {
   "cell_type": "code",
   "execution_count": 28,
   "id": "d814af35",
   "metadata": {},
   "outputs": [
    {
     "name": "stdout",
     "output_type": "stream",
     "text": [
      "A\n"
     ]
    }
   ],
   "source": [
    "marks=int(input(\"Enter marks\"))\n",
    "if(marks>=90):\n",
    "    print(\"A+\")\n",
    "elif(marks>=80 and marks<=89):\n",
    "    print(\"A\")\n",
    "elif(marks>=70 and marks<=79):\n",
    "    print(\"B\")\n",
    "elif(marks>60 and marks<=69):\n",
    "    print(\"C\")\n",
    "elif(marks<60):\n",
    "    print(\"Fail\")"
   ]
  },
  {
   "cell_type": "code",
   "execution_count": 29,
   "id": "61816417",
   "metadata": {},
   "outputs": [
    {
     "name": "stdout",
     "output_type": "stream",
     "text": [
      "highest marks 90\n",
      "lowest marks 45\n",
      "Average marks 71.4\n"
     ]
    }
   ],
   "source": [
    "marks=[]\n",
    "sum=0\n",
    "for i in range(5):\n",
    "    m=int(input(\"Enter marks\"))\n",
    "    marks.append(m)\n",
    "    sum+=m\n",
    "avg=sum/len(marks)\n",
    "marks.sort()\n",
    "print(\"highest marks\",max(marks))\n",
    "print(\"lowest marks\",marks[0])\n",
    "print(\"Average marks\",avg)\n"
   ]
  },
  {
   "cell_type": "code",
   "execution_count": 33,
   "id": "e0d94c2e",
   "metadata": {},
   "outputs": [
    {
     "name": "stdout",
     "output_type": "stream",
     "text": [
      "phone number of suhel is 9876543210\n"
     ]
    }
   ],
   "source": [
    "d={\"suhel\":9876543210,\"Ravi\":9123456780,\"Anita\":9988776655}\n",
    "n=input(\"Enter a name\")\n",
    "print(\"phone number of\",n,\"is\",d[n])"
   ]
  },
  {
   "cell_type": "code",
   "execution_count": 36,
   "id": "d963d733",
   "metadata": {},
   "outputs": [
    {
     "name": "stdout",
     "output_type": "stream",
     "text": [
      "None\n"
     ]
    }
   ],
   "source": [
    "my_dict = {\"a\": 1, \"b\": 2}\n",
    "\n",
    "print(my_dict.get(\"c\"))\n"
   ]
  },
  {
   "cell_type": "code",
   "execution_count": 49,
   "id": "76cc62db",
   "metadata": {},
   "outputs": [
    {
     "name": "stdout",
     "output_type": "stream",
     "text": [
      "2\n",
      "10\n",
      "3\n"
     ]
    }
   ],
   "source": [
    "cnt=0\n",
    "str=input(\"Enter a string\")\n",
    "print(len(str.split()))\n",
    "print(len(str)-len(str.split())+1)\n",
    "vowels=\"aeiou\"\n",
    "for i in str:\n",
    "    if(i in vowels):\n",
    "        cnt+=1\n",
    "print(cnt)\n"
   ]
  },
  {
   "cell_type": "code",
   "execution_count": 1,
   "id": "2cda5ebc",
   "metadata": {},
   "outputs": [
    {
     "name": "stdout",
     "output_type": "stream",
     "text": [
      "Total Words = 2\n",
      "Total Characters = 10\n",
      "Total Vowels = 3\n"
     ]
    }
   ],
   "source": [
    "sentence = input(\"Enter sentence: \")\n",
    "words = sentence.split()\n",
    "chars = len(sentence.replace(\" \", \"\"))\n",
    "vowels = sum(1 for c in sentence.lower() if c in \"aeiou\")\n",
    "print(\"Total Words =\", len(words))\n",
    "print(\"Total Characters =\", chars)\n",
    "print(\"Total Vowels =\", vowels)\n"
   ]
  },
  {
   "cell_type": "code",
   "execution_count": 2,
   "id": "d6713e4c",
   "metadata": {},
   "outputs": [
    {
     "name": "stdout",
     "output_type": "stream",
     "text": [
      "Compound Interest = 6.12\n",
      "Total Amount = 106.12\n"
     ]
    }
   ],
   "source": [
    "p = float(input(\"Principal = \"))\n",
    "r = float(input(\"Rate = \"))\n",
    "t = float(input(\"Time = \"))\n",
    "itype = input(\"Interest Type = \")\n",
    "\n",
    "if itype.lower() == \"simple\":\n",
    "    si = (p * r * t) / 100\n",
    "    print(\"Simple Interest =\", round(si, 2))\n",
    "    print(\"Total Amount =\", round(p + si, 2))\n",
    "else:\n",
    "    ci = p * ((1 + r/100)**t - 1)\n",
    "    print(\"Compound Interest =\", round(ci, 2))\n",
    "    print(\"Total Amount =\", round(p + ci, 2))\n"
   ]
  },
  {
   "cell_type": "code",
   "execution_count": 3,
   "id": "7462dd01",
   "metadata": {},
   "outputs": [
    {
     "name": "stdout",
     "output_type": "stream",
     "text": [
      "Encrypted Message: KHOOR\n"
     ]
    }
   ],
   "source": [
    "msg = input(\"Message = \").upper()\n",
    "shift = int(input(\"Shift = \"))\n",
    "encrypted = \"\"\n",
    "for ch in msg:\n",
    "    if ch.isalpha():\n",
    "        encrypted += chr((ord(ch) - 65 + shift) % 26 + 65)\n",
    "    else:\n",
    "        encrypted += ch\n",
    "print(\"Encrypted Message:\", encrypted)\n"
   ]
  },
  {
   "cell_type": "code",
   "execution_count": 4,
   "id": "c6c21c89",
   "metadata": {},
   "outputs": [
    {
     "name": "stdout",
     "output_type": "stream",
     "text": [
      "PIN Verified.\n",
      "Withdrawal Successful. Remaining Balance = 3000.0\n"
     ]
    }
   ],
   "source": [
    "pin = int(input(\"PIN = \"))\n",
    "balance = float(input(\"Balance = \"))\n",
    "withdraw = float(input(\"Withdraw = \"))\n",
    "if pin == 1234:\n",
    "    print(\"PIN Verified.\")\n",
    "    if withdraw <= balance:\n",
    "        balance -= withdraw\n",
    "        print(\"Withdrawal Successful. Remaining Balance =\", balance)\n",
    "    else:\n",
    "        print(\"Insufficient Balance\")\n",
    "else:\n",
    "    print(\"Invalid PIN\")\n"
   ]
  },
  {
   "cell_type": "code",
   "execution_count": 5,
   "id": "105cd9ce",
   "metadata": {},
   "outputs": [
    {
     "name": "stdout",
     "output_type": "stream",
     "text": [
      "Current Books: ['Python Basics', 'Data Science', 'AI Fundamentals', 'machine learning']\n",
      "Total Books: 4\n"
     ]
    }
   ],
   "source": [
    "books = [\"Python Basics\", \"Data Science\", \"AI Fundamentals\"]\n",
    "add_book = input(\"Add Book: \")\n",
    "remove_book = input(\"Remove Book: \")\n",
    "if add_book:\n",
    "    books.append(add_book)\n",
    "if remove_book in books:\n",
    "    books.remove(remove_book)\n",
    "print(\"Current Books:\", books)\n",
    "print(\"Total Books:\", len(books))\n"
   ]
  }
 ],
 "metadata": {
  "kernelspec": {
   "display_name": "Python 3",
   "language": "python",
   "name": "python3"
  },
  "language_info": {
   "codemirror_mode": {
    "name": "ipython",
    "version": 3
   },
   "file_extension": ".py",
   "mimetype": "text/x-python",
   "name": "python",
   "nbconvert_exporter": "python",
   "pygments_lexer": "ipython3",
   "version": "3.11.0"
  }
 },
 "nbformat": 4,
 "nbformat_minor": 5
}

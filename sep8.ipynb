{
 "cells": [
  {
   "cell_type": "code",
   "execution_count": null,
   "id": "cf1b58ed",
   "metadata": {},
   "outputs": [
    {
     "ename": "",
     "evalue": "",
     "output_type": "error",
     "traceback": [
      "\u001b[1;31mRunning cells with 'venv (Python 3.11.0)' requires the ipykernel package.\n",
      "\u001b[1;31mInstall 'ipykernel' into the Python environment. \n",
      "\u001b[1;31mCommand: 'conda install -p c:\\Users\\Hello\\OneDrive\\Desktop\\j5\\venv ipykernel --update-deps --force-reinstall'"
     ]
    }
   ],
   "source": [
    "\n",
    "K0 = float(input(\"Enter initial balance K0: \"))\n",
    "rate = float(input(\"Enter interest rate (in %): \"))\n",
    "\n",
    "K1 = K0 * (1 + rate / 100)\n",
    "print(f\"Capital after 1 year is: {K1:.2f}\")\n",
    "\n",
    "n = int(input(\"Enter number of years n: \"))\n",
    "Kn = K0\n",
    "year = 0\n",
    "\n",
    "while year < n:\n",
    "    Kn = Kn * (1 + rate / 100)\n",
    "    year += 1\n",
    "\n",
    "print(f\"Capital after {n} years is: {Kn:.2f}\")\n"
   ]
  },
  {
   "cell_type": "code",
   "execution_count": null,
   "id": "131f6c63",
   "metadata": {},
   "outputs": [
    {
     "ename": "",
     "evalue": "",
     "output_type": "error",
     "traceback": [
      "\u001b[1;31mRunning cells with 'venv (Python 3.11.0)' requires the ipykernel package.\n",
      "\u001b[1;31mInstall 'ipykernel' into the Python environment. \n",
      "\u001b[1;31mCommand: 'conda install -p c:\\Users\\Hello\\OneDrive\\Desktop\\j5\\venv ipykernel --update-deps --force-reinstall'"
     ]
    }
   ],
   "source": [
    "sample_list = [(2, 5), (1, 2), (4, 4), (2, 3), (2, 1)]\n",
    "sorted_list=sorted(sample_list,key=lambda x:x[-1])\n",
    "print(sorted_list)"
   ]
  },
  {
   "cell_type": "code",
   "execution_count": null,
   "id": "7cb7fa28",
   "metadata": {},
   "outputs": [],
   "source": []
  }
 ],
 "metadata": {
  "kernelspec": {
   "display_name": "Python 3",
   "language": "python",
   "name": "python3"
  },
  "language_info": {
   "name": "python",
   "version": "3.11.0"
  }
 },
 "nbformat": 4,
 "nbformat_minor": 5
}

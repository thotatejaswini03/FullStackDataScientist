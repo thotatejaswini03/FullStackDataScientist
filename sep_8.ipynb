{
 "cells": [
  {
   "cell_type": "code",
   "execution_count": 28,
   "id": "9449804b",
   "metadata": {},
   "outputs": [
    {
     "name": "stdout",
     "output_type": "stream",
     "text": [
      "[2, 3, 5, 7, 11, 13, 17, 19]\n"
     ]
    }
   ],
   "source": [
    "def prime_numbers(n):\n",
    "    primes = []\n",
    "    for num in range(2, n+1):\n",
    "        is_prime = True\n",
    "        for i in range(2, int(num**0.5)+1):\n",
    "            if num % i == 0:\n",
    "                is_prime = False\n",
    "                break\n",
    "        if is_prime:\n",
    "            primes.append(num)\n",
    "    return primes\n",
    "print(prime_numbers(20))\n"
   ]
  },
  {
   "cell_type": "code",
   "execution_count": 29,
   "metadata": {},
   "outputs": [
    {
     "name": "stdout",
     "output_type": "stream",
     "text": [
      "True\n"
     ]
    }
   ],
   "source": [
    "def is_palindrome(s):\n",
    "    s = s.replace(\" \", \"\").lower()\n",
    "    return s == s[::-1]\n",
    "\n",
    "print(is_palindrome(\"Never odd or even\"))\n"
   ]
  },
  {
   "cell_type": "code",
   "execution_count": 30,
   "id": "3ca01f07",
   "metadata": {},
   "outputs": [
    {
     "name": "stdout",
     "output_type": "stream",
     "text": [
      "True\n"
     ]
    }
   ],
   "source": [
    "def anagrams(w1, w2):\n",
    "    return sorted(w1.lower()) == sorted(w2.lower())\n",
    "\n",
    "print(anagrams(\"listen\", \"silent\")) \n"
   ]
  },
  {
   "cell_type": "code",
   "execution_count": 31,
   "id": "7f51acc7",
   "metadata": {},
   "outputs": [
    {
     "name": "stdout",
     "output_type": "stream",
     "text": [
      "Vowels=2, Consonants=3\n"
     ]
    }
   ],
   "source": [
    "def count(s):\n",
    "    vowels = 'aeiou'\n",
    "    v = sum(c in vowels for c in s.lower())\n",
    "    c = sum(c.isalpha() and c not in vowels for c in s.lower())\n",
    "    return v, c\n",
    "v, c = count(\"hello\")\n",
    "print(f\"Vowels={v}, Consonants={c}\")\n"
   ]
  },
  {
   "cell_type": "code",
   "execution_count": 32,
   "id": "d0552d94",
   "metadata": {},
   "outputs": [
    {
     "name": "stdout",
     "output_type": "stream",
     "text": [
      "amazing\n"
     ]
    }
   ],
   "source": [
    "def long(s):\n",
    "    return max(s.split(), key=len)\n",
    "\n",
    "print(long(\"Python is amazing\"))\n"
   ]
  },
  {
   "cell_type": "code",
   "execution_count": 33,
   "id": "53e19947",
   "metadata": {},
   "outputs": [
    {
     "name": "stdout",
     "output_type": "stream",
     "text": [
      "pbfiEt\n"
     ]
    }
   ],
   "source": [
    "import random, string\n",
    "\n",
    "def gen_pass(length):\n",
    "    chars = string.ascii_letters + string.digits + string.punctuation\n",
    "    return ''.join(random.choice(chars) for _ in range(length))\n",
    "\n",
    "print(gen_pass(6))\n"
   ]
  },
  {
   "cell_type": "code",
   "execution_count": 34,
   "id": "59fb7739",
   "metadata": {},
   "outputs": [
    {
     "name": "stdout",
     "output_type": "stream",
     "text": [
      "5.0\n",
      "120\n",
      "1.0\n",
      "1.0\n"
     ]
    }
   ],
   "source": [
    "import math\n",
    "\n",
    "print(math.sqrt(25))      \n",
    "print(math.factorial(5)) \n",
    "print(math.sin(math.pi/2))\n",
    "print(math.cos(0))  \n"
   ]
  },
  {
   "cell_type": "code",
   "execution_count": 35,
   "id": "c8c958a9",
   "metadata": {},
   "outputs": [
    {
     "name": "stdout",
     "output_type": "stream",
     "text": [
      "{'cat': 2, 'dog': 1}\n"
     ]
    }
   ],
   "source": [
    "from collections import Counter\n",
    "\n",
    "def freq(s):\n",
    "    return dict(Counter(s.split()))\n",
    "\n",
    "print(freq(\"cat dog cat\"))\n"
   ]
  },
  {
   "cell_type": "code",
   "execution_count": 36,
   "id": "75b172df",
   "metadata": {},
   "outputs": [
    {
     "name": "stdout",
     "output_type": "stream",
     "text": [
      "Weather: Rainy, Temp: 28°C\n"
     ]
    }
   ],
   "source": [
    "import random\n",
    "\n",
    "def weather():\n",
    "    w = random.choice([\"Sunny\", \"Rainy\", \"Cloudy\", \"Windy\"])\n",
    "    t = random.randint(15, 35)\n",
    "    return f\"Weather: {w}, Temp: {t}°C\"\n",
    "\n",
    "print(weather())\n"
   ]
  },
  {
   "cell_type": "code",
   "execution_count": 37,
   "id": "a2393c9c",
   "metadata": {},
   "outputs": [
    {
     "name": "stdout",
     "output_type": "stream",
     "text": [
      "5\n",
      "4\n",
      "3\n",
      "2\n",
      "1\n",
      "Time’s up!\n"
     ]
    }
   ],
   "source": [
    "import time\n",
    "\n",
    "def countdown(n):\n",
    "    while n > 0:\n",
    "        print(n)\n",
    "        time.sleep(1)\n",
    "        n -= 1\n",
    "    print(\"Time’s up!\")\n",
    "countdown(5)\n"
   ]
  },
  {
   "cell_type": "code",
   "execution_count": 38,
   "id": "3f5f6e2c",
   "metadata": {},
   "outputs": [
    {
     "name": "stdout",
     "output_type": "stream",
     "text": [
      "Balance: 120\n"
     ]
    }
   ],
   "source": [
    "class BankAccount:\n",
    "    def deposit(self, amount):\n",
    "        self.balance += amount\n",
    "    def withdraw(self, amount):\n",
    "        if amount <= self.balance:\n",
    "            self.balance -= amount\n",
    "    def get_balance(self):\n",
    "        return self.balance\n",
    "acc = BankAccount()\n",
    "acc.balance = 100\n",
    "acc.deposit(50)\n",
    "acc.withdraw(30)\n",
    "print(\"Balance:\", acc.get_balance())\n"
   ]
  },
  {
   "cell_type": "code",
   "execution_count": 39,
   "id": "9f4bef7d",
   "metadata": {},
   "outputs": [
    {
     "name": "stdout",
     "output_type": "stream",
     "text": [
      "85.0\n",
      "95\n"
     ]
    }
   ],
   "source": [
    "class Student:\n",
    "    def avg(self):\n",
    "        return sum(self.marks) / len(self.marks)\n",
    "    def add_mark(self, mark):\n",
    "        self.marks.append(mark)\n",
    "    def high(self):\n",
    "        return max(self.marks)\n",
    "    def low(self):\n",
    "        return min(self.marks)\n",
    "s = Student()\n",
    "s.name = \"Tom\"\n",
    "s.marks = [90, 80, 85]\n",
    "print(s.avg())\n",
    "s.add_mark(95)\n",
    "print(s.high())\n"
   ]
  },
  {
   "cell_type": "code",
   "execution_count": 40,
   "id": "f5da6ac5",
   "metadata": {},
   "outputs": [
    {
     "name": "stdout",
     "output_type": "stream",
     "text": [
      "10000.0\n"
     ]
    }
   ],
   "source": [
    "class Employee:\n",
    "    def bonus(self):\n",
    "        rates = {'Manager': 0.2, 'Developer': 0.1, 'Intern': 0.05}\n",
    "        return self.salary * rates.get(self.role, 0)\n",
    "m = Employee()\n",
    "m.name = \"Alice\"\n",
    "m.salary = 50000\n",
    "m.role = \"Manager\"\n",
    "print(m.bonus())\n"
   ]
  },
  {
   "cell_type": "code",
   "execution_count": 41,
   "id": "60c9855c",
   "metadata": {},
   "outputs": [
    {
     "name": "stdout",
     "output_type": "stream",
     "text": [
      "153.94\n",
      "20\n"
     ]
    }
   ],
   "source": [
    "import math\n",
    "class Circle:\n",
    "    def area(self):\n",
    "        return round(math.pi * self.radius ** 2, 2)\n",
    "class Rectangle:\n",
    "    def area(self):\n",
    "        return self.width * self.height\n",
    "c = Circle()\n",
    "c.radius = 7\n",
    "print(c.area())\n",
    "r = Rectangle()\n",
    "r.width = 4\n",
    "r.height = 5\n",
    "print(r.area())\n"
   ]
  },
  {
   "cell_type": "code",
   "execution_count": 42,
   "id": "eb2a8f8c",
   "metadata": {},
   "outputs": [
    {
     "name": "stdout",
     "output_type": "stream",
     "text": [
      "Total = 2000\n"
     ]
    }
   ],
   "source": [
    "class Order:\n",
    "    def add(self, item, price):\n",
    "        self.items[item] = price\n",
    "    def remove(self, item):\n",
    "        self.items.pop(item, None)\n",
    "    def calculate_total(self):\n",
    "        return sum(self.items.values())\n",
    "    def show_items(self):\n",
    "        return list(self.items.keys())\n",
    "order = Order()\n",
    "order.items = {}  \n",
    "order.add(\"Shirt\", 500)\n",
    "order.add(\"Shoes\", 1500)\n",
    "print(\"Total =\", order.calculate_total())\n"
   ]
  }
 ],
 "metadata": {
  "kernelspec": {
   "display_name": "base",
   "language": "python",
   "name": "python3"
  },
  "language_info": {
   "codemirror_mode": {
    "name": "ipython",
    "version": 3
   },
   "file_extension": ".py",
   "mimetype": "text/x-python",
   "name": "python",
   "nbconvert_exporter": "python",
   "pygments_lexer": "ipython3",
   "version": "3.13.5"
  }
 },
 "nbformat": 4,
 "nbformat_minor": 5
}
